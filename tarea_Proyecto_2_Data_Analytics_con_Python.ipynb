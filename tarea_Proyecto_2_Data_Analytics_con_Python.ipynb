{
  "nbformat": 4,
  "nbformat_minor": 0,
  "metadata": {
    "colab": {
      "provenance": []
    },
    "kernelspec": {
      "name": "python3",
      "display_name": "Python 3"
    },
    "language_info": {
      "name": "python"
    }
  },
  "cells": [
    {
      "cell_type": "markdown",
      "source": [
        "# Proyecto 2 - Proceso de generación de valor por extración de datos\n"
      ],
      "metadata": {
        "id": "pOhibryEonSI"
      }
    },
    {
      "cell_type": "markdown",
      "source": [
        "Este proyecto esta diseñado para que usted pueda:\n",
        "\n",
        "1.   Poner en práctica los conocimientos específicos del leguaje Python y las bibliotecas de Pandas, Matplotlib con Seaborn y numpy\n",
        "2.   Generar una plantilla reutilizable de un proceso de limpieza, consolidación y carga de datos\n",
        "3.   Aplicar los conocimientos analizando una base de datos del mundo real.\n",
        "\n",
        "Utilizaremos el dataset superstore que puede encontar en la carpeta de datasets de Google Drive. Este es la información de ventas y ordenes de cuatro años de una tienda en línea y le permitirá hacer análisis de ventas, categorías etc.\n",
        "\n",
        "Mantenga en mente que algunos errores en carga y limpieza de datos pueden surgir. Su tarea es identificarlos y sobreponerse a ellos.\n",
        "\n"
      ],
      "metadata": {
        "id": "oXPs8b_fou_z"
      }
    },
    {
      "cell_type": "code",
      "source": [
        "from google.colab import drive"
      ],
      "metadata": {
        "id": "zltk5pKsouYA"
      },
      "execution_count": 1,
      "outputs": []
    },
    {
      "cell_type": "code",
      "source": [
        "import pandas as pd"
      ],
      "metadata": {
        "id": "hXTwhISVpN-n"
      },
      "execution_count": 2,
      "outputs": []
    },
    {
      "cell_type": "code",
      "source": [
        "from google.colab import drive\n",
        "drive.mount('/content/drive')"
      ],
      "metadata": {
        "id": "wg7ZtvrDpeAf",
        "colab": {
          "base_uri": "https://localhost:8080/"
        },
        "outputId": "a8746320-0bbe-48a7-bc4b-e23f2c2785e4"
      },
      "execution_count": 3,
      "outputs": [
        {
          "output_type": "stream",
          "name": "stdout",
          "text": [
            "Mounted at /content/drive\n"
          ]
        }
      ]
    },
    {
      "cell_type": "code",
      "source": [],
      "metadata": {
        "id": "GDRrbNjd9DlH"
      },
      "execution_count": null,
      "outputs": []
    },
    {
      "cell_type": "markdown",
      "source": [],
      "metadata": {
        "id": "Mj3J7FWQrJY2"
      }
    },
    {
      "cell_type": "markdown",
      "source": [
        "# Importar Datos e Identificar variables a limpiar"
      ],
      "metadata": {
        "id": "Mjz4Rx2pv2vd"
      }
    },
    {
      "cell_type": "code",
      "execution_count": null,
      "metadata": {
        "id": "XqtluUm1vxg_"
      },
      "outputs": [],
      "source": [
        "df1 = pd.read_csv ( '/content/drive/MyDrive/ASOS/superstore/superstore_dataset2011-2015-1.csv',encoding= 'latin1')\n",
        "df2 = pd.read_csv ( '/content/drive/MyDrive/ASOS/superstore/superstore_dataset2011-2015-2.csv',encoding= 'latin1')\n",
        "df3 = pd.read_csv ( '/content/drive/MyDrive/ASOS/superstore/superstore_dataset2011-2015-3.csv',encoding= 'latin1')\n",
        "df4 = pd.read_csv ( '/content/drive/MyDrive/ASOS/superstore/superstore_dataset2011-2015-4.csv',encoding= 'latin1')\n",
        "df5 = pd.read_csv ( '/content/drive/MyDrive/ASOS/superstore/superstore_dataset2011-2015-5.csv',encoding= 'latin1')\n",
        "df6 = pd.read_csv ( '/content/drive/MyDrive/ASOS/superstore/superstore_dataset2011-2015-8.csv',encoding= 'latin1')"
      ]
    },
    {
      "cell_type": "code",
      "source": [
        "merged_df = pd.concat([df1, df2,df3,df4,df5,df6], ignore_index=True)"
      ],
      "metadata": {
        "id": "S3QemZTrXnfG"
      },
      "execution_count": null,
      "outputs": []
    },
    {
      "cell_type": "code",
      "source": [
        "df.columns = df.columns.str.strip()"
      ],
      "metadata": {
        "id": "foLlM0VF7k2e"
      },
      "execution_count": 65,
      "outputs": []
    },
    {
      "cell_type": "code",
      "source": [
        "df.columns = df.columns.str.replace(' ', '_')"
      ],
      "metadata": {
        "id": "hmz8Mt9ICqNZ"
      },
      "execution_count": 66,
      "outputs": []
    },
    {
      "cell_type": "code",
      "source": [
        "df.columns = df.columns.str.replace('-', '_')"
      ],
      "metadata": {
        "id": "0TJeut56JbIS"
      },
      "execution_count": 67,
      "outputs": []
    },
    {
      "cell_type": "code",
      "source": [
        "df.columns = df.columns.str.lower()"
      ],
      "metadata": {
        "id": "XvOqxBsBJtFL"
      },
      "execution_count": 68,
      "outputs": []
    },
    {
      "cell_type": "code",
      "source": [
        "df.info()"
      ],
      "metadata": {
        "id": "-zA-sjiI8R6f",
        "colab": {
          "base_uri": "https://localhost:8080/"
        },
        "outputId": "de1516e5-5644-435c-a47e-a55dd5ee7461"
      },
      "execution_count": 69,
      "outputs": [
        {
          "output_type": "stream",
          "name": "stdout",
          "text": [
            "<class 'pandas.core.frame.DataFrame'>\n",
            "RangeIndex: 10244 entries, 0 to 10243\n",
            "Data columns (total 25 columns):\n",
            " #   Column          Non-Null Count  Dtype  \n",
            "---  ------          --------------  -----  \n",
            " 0   unnamed:_0      10244 non-null  int64  \n",
            " 1   row_id          10244 non-null  int64  \n",
            " 2   order_id        10244 non-null  object \n",
            " 3   order_date      10244 non-null  object \n",
            " 4   ship_date       10244 non-null  object \n",
            " 5   ship_mode       10244 non-null  object \n",
            " 6   customer_id     10244 non-null  object \n",
            " 7   customer_name   10244 non-null  object \n",
            " 8   segment         10244 non-null  object \n",
            " 9   city            10244 non-null  object \n",
            " 10  state           10244 non-null  object \n",
            " 11  country         10244 non-null  object \n",
            " 12  postal_code     10244 non-null  int64  \n",
            " 13  market          10244 non-null  object \n",
            " 14  region          10244 non-null  object \n",
            " 15  product_id      10244 non-null  object \n",
            " 16  category        10244 non-null  object \n",
            " 17  sub_category    10244 non-null  object \n",
            " 18  product_name    10244 non-null  object \n",
            " 19  sales           10244 non-null  float64\n",
            " 20  quantity        10244 non-null  int64  \n",
            " 21  discount        10244 non-null  object \n",
            " 22  profit          10244 non-null  float64\n",
            " 23  shipping_cost   10244 non-null  float64\n",
            " 24  order_priority  10244 non-null  object \n",
            "dtypes: float64(3), int64(4), object(18)\n",
            "memory usage: 2.0+ MB\n"
          ]
        }
      ]
    },
    {
      "cell_type": "code",
      "source": [
        "print(df.head())"
      ],
      "metadata": {
        "id": "fLA15_0v_U1H"
      },
      "execution_count": null,
      "outputs": []
    },
    {
      "cell_type": "markdown",
      "source": [],
      "metadata": {
        "id": "AwkPSOaz-JlX"
      }
    },
    {
      "cell_type": "markdown",
      "source": [
        "# Limpieza de Datos"
      ],
      "metadata": {
        "id": "6Eys7fU3xsKQ"
      }
    },
    {
      "cell_type": "code",
      "source": [
        "duplicados = df[df.duplicated()]"
      ],
      "metadata": {
        "id": "EowKM2i9MCmk"
      },
      "execution_count": null,
      "outputs": []
    },
    {
      "cell_type": "code",
      "source": [
        "print(duplicados)"
      ],
      "metadata": {
        "id": "UCHf4rHKMEG7"
      },
      "execution_count": null,
      "outputs": []
    },
    {
      "cell_type": "code",
      "source": [
        "df = df.drop_duplicates()"
      ],
      "metadata": {
        "id": "DAJvKLerxwbC"
      },
      "execution_count": null,
      "outputs": []
    },
    {
      "cell_type": "code",
      "source": [
        "df[df.duplicated(subset='postal_code', keep=False)]"
      ],
      "metadata": {
        "id": "746sbBnDNbDT"
      },
      "execution_count": null,
      "outputs": []
    },
    {
      "cell_type": "code",
      "source": [
        "df['postal_code'] = df['postal_code'].fillna(0)"
      ],
      "metadata": {
        "id": "G7_xmhviPkVU"
      },
      "execution_count": null,
      "outputs": []
    },
    {
      "cell_type": "code",
      "source": [
        "df['postal_code'] = df['postal_code'].astype(int)"
      ],
      "metadata": {
        "id": "IcWYMSkORmyl"
      },
      "execution_count": null,
      "outputs": []
    },
    {
      "cell_type": "code",
      "source": [
        "df = df.drop_duplicates()"
      ],
      "metadata": {
        "id": "i0L6EJ3kW67d"
      },
      "execution_count": null,
      "outputs": []
    },
    {
      "cell_type": "code",
      "source": [
        "df.category.head()"
      ],
      "metadata": {
        "id": "Rr7WJ2xeTb81"
      },
      "execution_count": null,
      "outputs": []
    },
    {
      "cell_type": "code",
      "source": [
        "df.category.unique()"
      ],
      "metadata": {
        "id": "QgsQhc4LR24v"
      },
      "execution_count": null,
      "outputs": []
    },
    {
      "cell_type": "code",
      "source": [
        "convertir_a_porcentaje = lambda x: \"{:.2%}\".format(x)\n",
        "df['discount'] = df['discount'].apply(convertir_a_porcentaje)"
      ],
      "metadata": {
        "id": "P83u_TW_acg2"
      },
      "execution_count": null,
      "outputs": []
    },
    {
      "cell_type": "code",
      "source": [
        "df.discount"
      ],
      "metadata": {
        "id": "lH87DlvXbGUX"
      },
      "execution_count": null,
      "outputs": []
    },
    {
      "cell_type": "code",
      "source": [
        "df['sales'] = df['sales'].astype(str).replace(',', '.', regex=True).astype(float)"
      ],
      "metadata": {
        "id": "uGkPn9z5dhFS"
      },
      "execution_count": null,
      "outputs": []
    },
    {
      "cell_type": "code",
      "source": [
        "df.sales.head"
      ],
      "metadata": {
        "colab": {
          "base_uri": "https://localhost:8080/"
        },
        "id": "jWjZFo3Td5J7",
        "outputId": "71030014-19a8-427d-e0bc-ad503f31d489"
      },
      "execution_count": null,
      "outputs": [
        {
          "output_type": "execute_result",
          "data": {
            "text/plain": [
              "<bound method NDFrame.head of 0        631.91364\n",
              "1        437.72400\n",
              "2        215.37600\n",
              "3        264.16800\n",
              "4        332.52960\n",
              "           ...    \n",
              "10255    198.64000\n",
              "10256    217.18800\n",
              "10257    381.78000\n",
              "10258    179.46000\n",
              "10259    138.83400\n",
              "Name: sales, Length: 10260, dtype: float64>"
            ]
          },
          "metadata": {},
          "execution_count": 220
        }
      ]
    },
    {
      "cell_type": "code",
      "source": [
        "df['profit'] = df['profit'].astype(str).replace(',', '.', regex=True).astype(float)\n"
      ],
      "metadata": {
        "id": "GtqGZMVBd-N5"
      },
      "execution_count": null,
      "outputs": []
    },
    {
      "cell_type": "code",
      "source": [
        "df['shipping_cost'] = df[ 'shipping_cost'].astype(str).replace(',', '.', regex=True).astype(float)"
      ],
      "metadata": {
        "id": "QHFBxZGKekIQ"
      },
      "execution_count": null,
      "outputs": []
    },
    {
      "cell_type": "code",
      "source": [
        "df.profit"
      ],
      "metadata": {
        "id": "NZqLjzIIecgQ"
      },
      "execution_count": null,
      "outputs": []
    },
    {
      "cell_type": "code",
      "source": [
        "df.shipping_cost"
      ],
      "metadata": {
        "id": "A_m9ccjze094"
      },
      "execution_count": null,
      "outputs": []
    },
    {
      "cell_type": "code",
      "source": [],
      "metadata": {
        "id": "PDIUvgHS7WgI"
      },
      "execution_count": null,
      "outputs": []
    },
    {
      "cell_type": "markdown",
      "source": [
        "# Creación de nueva base de datos en Google Drive"
      ],
      "metadata": {
        "id": "VLsfTaw4xw3r"
      }
    },
    {
      "cell_type": "code",
      "source": [
        "df.to_csv()"
      ],
      "metadata": {
        "id": "vh2pNzi12kX2"
      },
      "execution_count": null,
      "outputs": []
    },
    {
      "cell_type": "code",
      "source": [
        "from google.colab import files"
      ],
      "metadata": {
        "id": "XsDjRaATYRoO"
      },
      "execution_count": 60,
      "outputs": []
    },
    {
      "cell_type": "code",
      "source": [
        "df.to_csv('tarea.csv')\n",
        "files.download('tarea.csv')"
      ],
      "metadata": {
        "id": "oOH3l6zTYWDm",
        "colab": {
          "base_uri": "https://localhost:8080/",
          "height": 17
        },
        "outputId": "0b1e63cc-5271-4894-d554-8d307a29c892"
      },
      "execution_count": 61,
      "outputs": [
        {
          "output_type": "display_data",
          "data": {
            "text/plain": [
              "<IPython.core.display.Javascript object>"
            ],
            "application/javascript": [
              "\n",
              "    async function download(id, filename, size) {\n",
              "      if (!google.colab.kernel.accessAllowed) {\n",
              "        return;\n",
              "      }\n",
              "      const div = document.createElement('div');\n",
              "      const label = document.createElement('label');\n",
              "      label.textContent = `Downloading \"${filename}\": `;\n",
              "      div.appendChild(label);\n",
              "      const progress = document.createElement('progress');\n",
              "      progress.max = size;\n",
              "      div.appendChild(progress);\n",
              "      document.body.appendChild(div);\n",
              "\n",
              "      const buffers = [];\n",
              "      let downloaded = 0;\n",
              "\n",
              "      const channel = await google.colab.kernel.comms.open(id);\n",
              "      // Send a message to notify the kernel that we're ready.\n",
              "      channel.send({})\n",
              "\n",
              "      for await (const message of channel.messages) {\n",
              "        // Send a message to notify the kernel that we're ready.\n",
              "        channel.send({})\n",
              "        if (message.buffers) {\n",
              "          for (const buffer of message.buffers) {\n",
              "            buffers.push(buffer);\n",
              "            downloaded += buffer.byteLength;\n",
              "            progress.value = downloaded;\n",
              "          }\n",
              "        }\n",
              "      }\n",
              "      const blob = new Blob(buffers, {type: 'application/binary'});\n",
              "      const a = document.createElement('a');\n",
              "      a.href = window.URL.createObjectURL(blob);\n",
              "      a.download = filename;\n",
              "      div.appendChild(a);\n",
              "      a.click();\n",
              "      div.remove();\n",
              "    }\n",
              "  "
            ]
          },
          "metadata": {}
        },
        {
          "output_type": "display_data",
          "data": {
            "text/plain": [
              "<IPython.core.display.Javascript object>"
            ],
            "application/javascript": [
              "download(\"download_7837d601-e66b-44e2-8ac0-a4db78b07918\", \"tarea.csv\", 2501823)"
            ]
          },
          "metadata": {}
        }
      ]
    },
    {
      "cell_type": "markdown",
      "source": [
        "# Explorando datos\n",
        "\n",
        "Conectar a la nueva base de datos"
      ],
      "metadata": {
        "id": "T7O46GSZ2kou"
      }
    },
    {
      "cell_type": "code",
      "source": [
        "df = pd.read_csv ( '/content/drive/MyDrive/ASOS/superstore/superstore_date_2.csv')"
      ],
      "metadata": {
        "id": "83HtD_K92p9-"
      },
      "execution_count": 63,
      "outputs": []
    },
    {
      "cell_type": "code",
      "source": [
        "df.info()"
      ],
      "metadata": {
        "colab": {
          "base_uri": "https://localhost:8080/"
        },
        "id": "jDFBYNJ96Nfi",
        "outputId": "fc1f8ca4-122b-49aa-9da9-cbb14d5443cc"
      },
      "execution_count": 64,
      "outputs": [
        {
          "output_type": "stream",
          "name": "stdout",
          "text": [
            "<class 'pandas.core.frame.DataFrame'>\n",
            "RangeIndex: 10244 entries, 0 to 10243\n",
            "Data columns (total 25 columns):\n",
            " #   Column          Non-Null Count  Dtype  \n",
            "---  ------          --------------  -----  \n",
            " 0   Unnamed: 0      10244 non-null  int64  \n",
            " 1   row_id          10244 non-null  int64  \n",
            " 2   order_id        10244 non-null  object \n",
            " 3   order_date      10244 non-null  object \n",
            " 4   ship_date       10244 non-null  object \n",
            " 5   ship_mode       10244 non-null  object \n",
            " 6   customer_id     10244 non-null  object \n",
            " 7   customer_name   10244 non-null  object \n",
            " 8   segment         10244 non-null  object \n",
            " 9   city            10244 non-null  object \n",
            " 10  state           10244 non-null  object \n",
            " 11  country         10244 non-null  object \n",
            " 12  postal_code     10244 non-null  int64  \n",
            " 13  market          10244 non-null  object \n",
            " 14  region          10244 non-null  object \n",
            " 15  product_id      10244 non-null  object \n",
            " 16  category        10244 non-null  object \n",
            " 17  sub_category    10244 non-null  object \n",
            " 18  product_name    10244 non-null  object \n",
            " 19  sales           10244 non-null  float64\n",
            " 20  quantity        10244 non-null  int64  \n",
            " 21  discount        10244 non-null  object \n",
            " 22  profit          10244 non-null  float64\n",
            " 23  shipping_cost   10244 non-null  float64\n",
            " 24  order_priority  10244 non-null  object \n",
            "dtypes: float64(3), int64(4), object(18)\n",
            "memory usage: 2.0+ MB\n"
          ]
        }
      ]
    },
    {
      "cell_type": "code",
      "source": [
        "df.drop('unnamed:_0', axis=1, inplace=True)"
      ],
      "metadata": {
        "id": "biUOSIFq6WgY"
      },
      "execution_count": 70,
      "outputs": []
    },
    {
      "cell_type": "code",
      "source": [
        "df['order_date'] = pd.to_datetime(df['order_date'])"
      ],
      "metadata": {
        "id": "qvN-_eAp7ZE4"
      },
      "execution_count": null,
      "outputs": []
    },
    {
      "cell_type": "code",
      "source": [
        "df['ship_date'] = pd.to_datetime(df['ship_date'])"
      ],
      "metadata": {
        "id": "qrlJtwZY65WI"
      },
      "execution_count": null,
      "outputs": []
    },
    {
      "cell_type": "code",
      "source": [
        "df['order_id'] = df['order_id'].astype('object')"
      ],
      "metadata": {
        "id": "gkaBUZUmtA7M"
      },
      "execution_count": 51,
      "outputs": []
    },
    {
      "cell_type": "code",
      "source": [
        "duplicados = df[df.duplicated(['order_id', 'product_id'], keep=False)]\n",
        "print(duplicados)"
      ],
      "metadata": {
        "id": "gAS6vfH6sbS0"
      },
      "execution_count": null,
      "outputs": []
    },
    {
      "cell_type": "code",
      "source": [
        "df.drop_duplicates(['order_id', 'product_id'], keep=False, inplace=True)"
      ],
      "metadata": {
        "id": "5fJEm-LFt-nu"
      },
      "execution_count": 53,
      "outputs": []
    },
    {
      "cell_type": "markdown",
      "source": [],
      "metadata": {
        "id": "yrwAHzm_n9FK"
      }
    },
    {
      "cell_type": "markdown",
      "source": [
        "# Analizando Categorías, tendencias, medias y creando valor"
      ],
      "metadata": {
        "id": "WTxHFNE82qMd"
      }
    },
    {
      "cell_type": "markdown",
      "source": [
        "Su función será crear un \"deep dive\" que explorara 2 a 4 preguntas de negocios que pueda hacer con los datos: ¿Cuál es el mejor día de la semana de ventas? etc. Como mínimo su análisis debe incluir:\n",
        "\n",
        "- Comparar dos variables con al menos una segmentación por categoría\n",
        "- Analizar gráficamente multiples variables numéricas\n",
        "- Plot charts, Gráficos de tendencia y Barra con su análisis de que significa\n",
        "- Utilizar las ideas anteriores como sea necesario para cada pregunta de negocio.\n",
        "\n"
      ],
      "metadata": {
        "id": "Ghzcciw6jzdC"
      }
    },
    {
      "cell_type": "markdown",
      "source": [],
      "metadata": {
        "id": "DKLb1W6g_G6d"
      }
    },
    {
      "cell_type": "code",
      "source": [
        "import seaborn as sns"
      ],
      "metadata": {
        "id": "6CxpD7KnVA7C"
      },
      "execution_count": 74,
      "outputs": []
    },
    {
      "cell_type": "code",
      "source": [
        "bestdate = df.groupby('order_date').size()\n"
      ],
      "metadata": {
        "id": "wu3K2yhbp-iB"
      },
      "execution_count": 75,
      "outputs": []
    },
    {
      "cell_type": "code",
      "source": [
        "bestdate_sum = df.groupby('order_date').agg({'quantity': 'sum'})"
      ],
      "metadata": {
        "id": "-PoK0_bu-Pzo"
      },
      "execution_count": 76,
      "outputs": []
    },
    {
      "cell_type": "code",
      "source": [
        "fecha_mas_repetida = bestdate_sum ['quantity'].idxmax()"
      ],
      "metadata": {
        "id": "hQB8NXKl-hGO"
      },
      "execution_count": 77,
      "outputs": []
    },
    {
      "cell_type": "code",
      "source": [
        "print( 'El dia con mas ventas: ', fecha_mas_repetida)"
      ],
      "metadata": {
        "colab": {
          "base_uri": "https://localhost:8080/"
        },
        "id": "fmiJag9tDpHk",
        "outputId": "1ba17483-860c-409f-c967-afb2f4401709"
      },
      "execution_count": 78,
      "outputs": [
        {
          "output_type": "stream",
          "name": "stdout",
          "text": [
            "El dia con mas ventas:  2014-06-18 00:00:00\n"
          ]
        }
      ]
    },
    {
      "cell_type": "code",
      "source": [
        "print\n",
        "(bestdate_sum)"
      ],
      "metadata": {
        "colab": {
          "base_uri": "https://localhost:8080/",
          "height": 345
        },
        "id": "TyrbjbQlR__9",
        "outputId": "5017ac17-99fc-4924-dd45-ea713bebaaca"
      },
      "execution_count": null,
      "outputs": [
        {
          "output_type": "execute_result",
          "data": {
            "text/plain": [
              "            quantity\n",
              "order_date          \n",
              "2011-01-14       127\n",
              "2011-01-15        37\n",
              "2011-01-16         5\n",
              "2011-01-17        57\n",
              "2011-01-18        17\n",
              "...              ...\n",
              "2014-12-14        38\n",
              "2014-12-15       325\n",
              "2014-12-16       219\n",
              "2014-12-17       227\n",
              "2014-12-18       222\n",
              "\n",
              "[285 rows x 1 columns]"
            ],
            "text/html": [
              "\n",
              "  <div id=\"df-c8657140-b8bd-4790-97ed-b805ef40b22c\" class=\"colab-df-container\">\n",
              "    <div>\n",
              "<style scoped>\n",
              "    .dataframe tbody tr th:only-of-type {\n",
              "        vertical-align: middle;\n",
              "    }\n",
              "\n",
              "    .dataframe tbody tr th {\n",
              "        vertical-align: top;\n",
              "    }\n",
              "\n",
              "    .dataframe thead th {\n",
              "        text-align: right;\n",
              "    }\n",
              "</style>\n",
              "<table border=\"1\" class=\"dataframe\">\n",
              "  <thead>\n",
              "    <tr style=\"text-align: right;\">\n",
              "      <th></th>\n",
              "      <th>quantity</th>\n",
              "    </tr>\n",
              "    <tr>\n",
              "      <th>order_date</th>\n",
              "      <th></th>\n",
              "    </tr>\n",
              "  </thead>\n",
              "  <tbody>\n",
              "    <tr>\n",
              "      <th>2011-01-14</th>\n",
              "      <td>127</td>\n",
              "    </tr>\n",
              "    <tr>\n",
              "      <th>2011-01-15</th>\n",
              "      <td>37</td>\n",
              "    </tr>\n",
              "    <tr>\n",
              "      <th>2011-01-16</th>\n",
              "      <td>5</td>\n",
              "    </tr>\n",
              "    <tr>\n",
              "      <th>2011-01-17</th>\n",
              "      <td>57</td>\n",
              "    </tr>\n",
              "    <tr>\n",
              "      <th>2011-01-18</th>\n",
              "      <td>17</td>\n",
              "    </tr>\n",
              "    <tr>\n",
              "      <th>...</th>\n",
              "      <td>...</td>\n",
              "    </tr>\n",
              "    <tr>\n",
              "      <th>2014-12-14</th>\n",
              "      <td>38</td>\n",
              "    </tr>\n",
              "    <tr>\n",
              "      <th>2014-12-15</th>\n",
              "      <td>325</td>\n",
              "    </tr>\n",
              "    <tr>\n",
              "      <th>2014-12-16</th>\n",
              "      <td>219</td>\n",
              "    </tr>\n",
              "    <tr>\n",
              "      <th>2014-12-17</th>\n",
              "      <td>227</td>\n",
              "    </tr>\n",
              "    <tr>\n",
              "      <th>2014-12-18</th>\n",
              "      <td>222</td>\n",
              "    </tr>\n",
              "  </tbody>\n",
              "</table>\n",
              "<p>285 rows × 1 columns</p>\n",
              "</div>\n",
              "    <div class=\"colab-df-buttons\">\n",
              "\n",
              "  <div class=\"colab-df-container\">\n",
              "    <button class=\"colab-df-convert\" onclick=\"convertToInteractive('df-c8657140-b8bd-4790-97ed-b805ef40b22c')\"\n",
              "            title=\"Convert this dataframe to an interactive table.\"\n",
              "            style=\"display:none;\">\n",
              "\n",
              "  <svg xmlns=\"http://www.w3.org/2000/svg\" height=\"24px\" viewBox=\"0 -960 960 960\">\n",
              "    <path d=\"M120-120v-720h720v720H120Zm60-500h600v-160H180v160Zm220 220h160v-160H400v160Zm0 220h160v-160H400v160ZM180-400h160v-160H180v160Zm440 0h160v-160H620v160ZM180-180h160v-160H180v160Zm440 0h160v-160H620v160Z\"/>\n",
              "  </svg>\n",
              "    </button>\n",
              "\n",
              "  <style>\n",
              "    .colab-df-container {\n",
              "      display:flex;\n",
              "      gap: 12px;\n",
              "    }\n",
              "\n",
              "    .colab-df-convert {\n",
              "      background-color: #E8F0FE;\n",
              "      border: none;\n",
              "      border-radius: 50%;\n",
              "      cursor: pointer;\n",
              "      display: none;\n",
              "      fill: #1967D2;\n",
              "      height: 32px;\n",
              "      padding: 0 0 0 0;\n",
              "      width: 32px;\n",
              "    }\n",
              "\n",
              "    .colab-df-convert:hover {\n",
              "      background-color: #E2EBFA;\n",
              "      box-shadow: 0px 1px 2px rgba(60, 64, 67, 0.3), 0px 1px 3px 1px rgba(60, 64, 67, 0.15);\n",
              "      fill: #174EA6;\n",
              "    }\n",
              "\n",
              "    .colab-df-buttons div {\n",
              "      margin-bottom: 4px;\n",
              "    }\n",
              "\n",
              "    [theme=dark] .colab-df-convert {\n",
              "      background-color: #3B4455;\n",
              "      fill: #D2E3FC;\n",
              "    }\n",
              "\n",
              "    [theme=dark] .colab-df-convert:hover {\n",
              "      background-color: #434B5C;\n",
              "      box-shadow: 0px 1px 3px 1px rgba(0, 0, 0, 0.15);\n",
              "      filter: drop-shadow(0px 1px 2px rgba(0, 0, 0, 0.3));\n",
              "      fill: #FFFFFF;\n",
              "    }\n",
              "  </style>\n",
              "\n",
              "    <script>\n",
              "      const buttonEl =\n",
              "        document.querySelector('#df-c8657140-b8bd-4790-97ed-b805ef40b22c button.colab-df-convert');\n",
              "      buttonEl.style.display =\n",
              "        google.colab.kernel.accessAllowed ? 'block' : 'none';\n",
              "\n",
              "      async function convertToInteractive(key) {\n",
              "        const element = document.querySelector('#df-c8657140-b8bd-4790-97ed-b805ef40b22c');\n",
              "        const dataTable =\n",
              "          await google.colab.kernel.invokeFunction('convertToInteractive',\n",
              "                                                    [key], {});\n",
              "        if (!dataTable) return;\n",
              "\n",
              "        const docLinkHtml = 'Like what you see? Visit the ' +\n",
              "          '<a target=\"_blank\" href=https://colab.research.google.com/notebooks/data_table.ipynb>data table notebook</a>'\n",
              "          + ' to learn more about interactive tables.';\n",
              "        element.innerHTML = '';\n",
              "        dataTable['output_type'] = 'display_data';\n",
              "        await google.colab.output.renderOutput(dataTable, element);\n",
              "        const docLink = document.createElement('div');\n",
              "        docLink.innerHTML = docLinkHtml;\n",
              "        element.appendChild(docLink);\n",
              "      }\n",
              "    </script>\n",
              "  </div>\n",
              "\n",
              "\n",
              "<div id=\"df-8bb350de-f7af-4cf1-b8cf-9e9186880841\">\n",
              "  <button class=\"colab-df-quickchart\" onclick=\"quickchart('df-8bb350de-f7af-4cf1-b8cf-9e9186880841')\"\n",
              "            title=\"Suggest charts.\"\n",
              "            style=\"display:none;\">\n",
              "\n",
              "<svg xmlns=\"http://www.w3.org/2000/svg\" height=\"24px\"viewBox=\"0 0 24 24\"\n",
              "     width=\"24px\">\n",
              "    <g>\n",
              "        <path d=\"M19 3H5c-1.1 0-2 .9-2 2v14c0 1.1.9 2 2 2h14c1.1 0 2-.9 2-2V5c0-1.1-.9-2-2-2zM9 17H7v-7h2v7zm4 0h-2V7h2v10zm4 0h-2v-4h2v4z\"/>\n",
              "    </g>\n",
              "</svg>\n",
              "  </button>\n",
              "\n",
              "<style>\n",
              "  .colab-df-quickchart {\n",
              "      --bg-color: #E8F0FE;\n",
              "      --fill-color: #1967D2;\n",
              "      --hover-bg-color: #E2EBFA;\n",
              "      --hover-fill-color: #174EA6;\n",
              "      --disabled-fill-color: #AAA;\n",
              "      --disabled-bg-color: #DDD;\n",
              "  }\n",
              "\n",
              "  [theme=dark] .colab-df-quickchart {\n",
              "      --bg-color: #3B4455;\n",
              "      --fill-color: #D2E3FC;\n",
              "      --hover-bg-color: #434B5C;\n",
              "      --hover-fill-color: #FFFFFF;\n",
              "      --disabled-bg-color: #3B4455;\n",
              "      --disabled-fill-color: #666;\n",
              "  }\n",
              "\n",
              "  .colab-df-quickchart {\n",
              "    background-color: var(--bg-color);\n",
              "    border: none;\n",
              "    border-radius: 50%;\n",
              "    cursor: pointer;\n",
              "    display: none;\n",
              "    fill: var(--fill-color);\n",
              "    height: 32px;\n",
              "    padding: 0;\n",
              "    width: 32px;\n",
              "  }\n",
              "\n",
              "  .colab-df-quickchart:hover {\n",
              "    background-color: var(--hover-bg-color);\n",
              "    box-shadow: 0 1px 2px rgba(60, 64, 67, 0.3), 0 1px 3px 1px rgba(60, 64, 67, 0.15);\n",
              "    fill: var(--button-hover-fill-color);\n",
              "  }\n",
              "\n",
              "  .colab-df-quickchart-complete:disabled,\n",
              "  .colab-df-quickchart-complete:disabled:hover {\n",
              "    background-color: var(--disabled-bg-color);\n",
              "    fill: var(--disabled-fill-color);\n",
              "    box-shadow: none;\n",
              "  }\n",
              "\n",
              "  .colab-df-spinner {\n",
              "    border: 2px solid var(--fill-color);\n",
              "    border-color: transparent;\n",
              "    border-bottom-color: var(--fill-color);\n",
              "    animation:\n",
              "      spin 1s steps(1) infinite;\n",
              "  }\n",
              "\n",
              "  @keyframes spin {\n",
              "    0% {\n",
              "      border-color: transparent;\n",
              "      border-bottom-color: var(--fill-color);\n",
              "      border-left-color: var(--fill-color);\n",
              "    }\n",
              "    20% {\n",
              "      border-color: transparent;\n",
              "      border-left-color: var(--fill-color);\n",
              "      border-top-color: var(--fill-color);\n",
              "    }\n",
              "    30% {\n",
              "      border-color: transparent;\n",
              "      border-left-color: var(--fill-color);\n",
              "      border-top-color: var(--fill-color);\n",
              "      border-right-color: var(--fill-color);\n",
              "    }\n",
              "    40% {\n",
              "      border-color: transparent;\n",
              "      border-right-color: var(--fill-color);\n",
              "      border-top-color: var(--fill-color);\n",
              "    }\n",
              "    60% {\n",
              "      border-color: transparent;\n",
              "      border-right-color: var(--fill-color);\n",
              "    }\n",
              "    80% {\n",
              "      border-color: transparent;\n",
              "      border-right-color: var(--fill-color);\n",
              "      border-bottom-color: var(--fill-color);\n",
              "    }\n",
              "    90% {\n",
              "      border-color: transparent;\n",
              "      border-bottom-color: var(--fill-color);\n",
              "    }\n",
              "  }\n",
              "</style>\n",
              "\n",
              "  <script>\n",
              "    async function quickchart(key) {\n",
              "      const quickchartButtonEl =\n",
              "        document.querySelector('#' + key + ' button');\n",
              "      quickchartButtonEl.disabled = true;  // To prevent multiple clicks.\n",
              "      quickchartButtonEl.classList.add('colab-df-spinner');\n",
              "      try {\n",
              "        const charts = await google.colab.kernel.invokeFunction(\n",
              "            'suggestCharts', [key], {});\n",
              "      } catch (error) {\n",
              "        console.error('Error during call to suggestCharts:', error);\n",
              "      }\n",
              "      quickchartButtonEl.classList.remove('colab-df-spinner');\n",
              "      quickchartButtonEl.classList.add('colab-df-quickchart-complete');\n",
              "    }\n",
              "    (() => {\n",
              "      let quickchartButtonEl =\n",
              "        document.querySelector('#df-8bb350de-f7af-4cf1-b8cf-9e9186880841 button');\n",
              "      quickchartButtonEl.style.display =\n",
              "        google.colab.kernel.accessAllowed ? 'block' : 'none';\n",
              "    })();\n",
              "  </script>\n",
              "</div>\n",
              "    </div>\n",
              "  </div>\n"
            ],
            "application/vnd.google.colaboratory.module+javascript": "\n      import \"https://ssl.gstatic.com/colaboratory/data_table/881c4a0d49046431/data_table.js\";\n\n      const table = window.createDataTable({\n        data: [[\"2011-01-14 00:00:00\",\n{\n            'v': 127,\n            'f': \"127\",\n        }],\n [\"2011-01-15 00:00:00\",\n{\n            'v': 37,\n            'f': \"37\",\n        }],\n [\"2011-01-16 00:00:00\",\n{\n            'v': 5,\n            'f': \"5\",\n        }],\n [\"2011-01-17 00:00:00\",\n{\n            'v': 57,\n            'f': \"57\",\n        }],\n [\"2011-01-18 00:00:00\",\n{\n            'v': 17,\n            'f': \"17\",\n        }],\n [\"2011-01-19 00:00:00\",\n{\n            'v': 40,\n            'f': \"40\",\n        }],\n [\"2011-02-14 00:00:00\",\n{\n            'v': 67,\n            'f': \"67\",\n        }],\n [\"2011-02-15 00:00:00\",\n{\n            'v': 80,\n            'f': \"80\",\n        }],\n [\"2011-02-16 00:00:00\",\n{\n            'v': 71,\n            'f': \"71\",\n        }],\n [\"2011-02-17 00:00:00\",\n{\n            'v': 27,\n            'f': \"27\",\n        }],\n [\"2011-02-18 00:00:00\",\n{\n            'v': 58,\n            'f': \"58\",\n        }],\n [\"2011-02-19 00:00:00\",\n{\n            'v': 10,\n            'f': \"10\",\n        }],\n [\"2011-03-14 00:00:00\",\n{\n            'v': 75,\n            'f': \"75\",\n        }],\n [\"2011-03-15 00:00:00\",\n{\n            'v': 61,\n            'f': \"61\",\n        }],\n [\"2011-03-16 00:00:00\",\n{\n            'v': 32,\n            'f': \"32\",\n        }],\n [\"2011-03-17 00:00:00\",\n{\n            'v': 99,\n            'f': \"99\",\n        }],\n [\"2011-03-18 00:00:00\",\n{\n            'v': 86,\n            'f': \"86\",\n        }],\n [\"2011-03-19 00:00:00\",\n{\n            'v': 29,\n            'f': \"29\",\n        }],\n [\"2011-04-14 00:00:00\",\n{\n            'v': 93,\n            'f': \"93\",\n        }],\n [\"2011-04-15 00:00:00\",\n{\n            'v': 55,\n            'f': \"55\",\n        }],\n [\"2011-04-16 00:00:00\",\n{\n            'v': 57,\n            'f': \"57\",\n        }],\n [\"2011-04-18 00:00:00\",\n{\n            'v': 118,\n            'f': \"118\",\n        }],\n [\"2011-04-19 00:00:00\",\n{\n            'v': 75,\n            'f': \"75\",\n        }],\n [\"2011-05-14 00:00:00\",\n{\n            'v': 27,\n            'f': \"27\",\n        }],\n [\"2011-05-15 00:00:00\",\n{\n            'v': 3,\n            'f': \"3\",\n        }],\n [\"2011-05-16 00:00:00\",\n{\n            'v': 35,\n            'f': \"35\",\n        }],\n [\"2011-05-17 00:00:00\",\n{\n            'v': 37,\n            'f': \"37\",\n        }],\n [\"2011-05-18 00:00:00\",\n{\n            'v': 110,\n            'f': \"110\",\n        }],\n [\"2011-05-19 00:00:00\",\n{\n            'v': 68,\n            'f': \"68\",\n        }],\n [\"2011-06-13 00:00:00\",\n{\n            'v': 137,\n            'f': \"137\",\n        }],\n [\"2011-06-14 00:00:00\",\n{\n            'v': 91,\n            'f': \"91\",\n        }],\n [\"2011-06-15 00:00:00\",\n{\n            'v': 106,\n            'f': \"106\",\n        }],\n [\"2011-06-16 00:00:00\",\n{\n            'v': 58,\n            'f': \"58\",\n        }],\n [\"2011-06-17 00:00:00\",\n{\n            'v': 141,\n            'f': \"141\",\n        }],\n [\"2011-06-18 00:00:00\",\n{\n            'v': 82,\n            'f': \"82\",\n        }],\n [\"2011-06-19 00:00:00\",\n{\n            'v': 2,\n            'f': \"2\",\n        }],\n [\"2011-07-13 00:00:00\",\n{\n            'v': 47,\n            'f': \"47\",\n        }],\n [\"2011-07-14 00:00:00\",\n{\n            'v': 60,\n            'f': \"60\",\n        }],\n [\"2011-07-15 00:00:00\",\n{\n            'v': 20,\n            'f': \"20\",\n        }],\n [\"2011-07-16 00:00:00\",\n{\n            'v': 61,\n            'f': \"61\",\n        }],\n [\"2011-07-17 00:00:00\",\n{\n            'v': 20,\n            'f': \"20\",\n        }],\n [\"2011-07-18 00:00:00\",\n{\n            'v': 65,\n            'f': \"65\",\n        }],\n [\"2011-08-13 00:00:00\",\n{\n            'v': 29,\n            'f': \"29\",\n        }],\n [\"2011-08-15 00:00:00\",\n{\n            'v': 127,\n            'f': \"127\",\n        }],\n [\"2011-08-16 00:00:00\",\n{\n            'v': 116,\n            'f': \"116\",\n        }],\n [\"2011-08-17 00:00:00\",\n{\n            'v': 115,\n            'f': \"115\",\n        }],\n [\"2011-08-18 00:00:00\",\n{\n            'v': 123,\n            'f': \"123\",\n        }],\n [\"2011-09-13 00:00:00\",\n{\n            'v': 157,\n            'f': \"157\",\n        }],\n [\"2011-09-14 00:00:00\",\n{\n            'v': 236,\n            'f': \"236\",\n        }],\n [\"2011-09-15 00:00:00\",\n{\n            'v': 159,\n            'f': \"159\",\n        }],\n [\"2011-09-16 00:00:00\",\n{\n            'v': 49,\n            'f': \"49\",\n        }],\n [\"2011-09-17 00:00:00\",\n{\n            'v': 92,\n            'f': \"92\",\n        }],\n [\"2011-09-18 00:00:00\",\n{\n            'v': 14,\n            'f': \"14\",\n        }],\n [\"2011-10-13 00:00:00\",\n{\n            'v': 140,\n            'f': \"140\",\n        }],\n [\"2011-10-14 00:00:00\",\n{\n            'v': 151,\n            'f': \"151\",\n        }],\n [\"2011-10-15 00:00:00\",\n{\n            'v': 83,\n            'f': \"83\",\n        }],\n [\"2011-10-16 00:00:00\",\n{\n            'v': 17,\n            'f': \"17\",\n        }],\n [\"2011-10-17 00:00:00\",\n{\n            'v': 82,\n            'f': \"82\",\n        }],\n [\"2011-10-18 00:00:00\",\n{\n            'v': 110,\n            'f': \"110\",\n        }],\n [\"2011-11-13 00:00:00\",\n{\n            'v': 12,\n            'f': \"12\",\n        }],\n [\"2011-11-14 00:00:00\",\n{\n            'v': 131,\n            'f': \"131\",\n        }],\n [\"2011-11-15 00:00:00\",\n{\n            'v': 129,\n            'f': \"129\",\n        }],\n [\"2011-11-16 00:00:00\",\n{\n            'v': 113,\n            'f': \"113\",\n        }],\n [\"2011-11-17 00:00:00\",\n{\n            'v': 107,\n            'f': \"107\",\n        }],\n [\"2011-11-18 00:00:00\",\n{\n            'v': 200,\n            'f': \"200\",\n        }],\n [\"2011-12-13 00:00:00\",\n{\n            'v': 196,\n            'f': \"196\",\n        }],\n [\"2011-12-14 00:00:00\",\n{\n            'v': 115,\n            'f': \"115\",\n        }],\n [\"2011-12-15 00:00:00\",\n{\n            'v': 205,\n            'f': \"205\",\n        }],\n [\"2011-12-16 00:00:00\",\n{\n            'v': 150,\n            'f': \"150\",\n        }],\n [\"2011-12-17 00:00:00\",\n{\n            'v': 105,\n            'f': \"105\",\n        }],\n [\"2012-01-14 00:00:00\",\n{\n            'v': 25,\n            'f': \"25\",\n        }],\n [\"2012-01-16 00:00:00\",\n{\n            'v': 72,\n            'f': \"72\",\n        }],\n [\"2012-01-17 00:00:00\",\n{\n            'v': 83,\n            'f': \"83\",\n        }],\n [\"2012-01-18 00:00:00\",\n{\n            'v': 113,\n            'f': \"113\",\n        }],\n [\"2012-01-19 00:00:00\",\n{\n            'v': 65,\n            'f': \"65\",\n        }],\n [\"2012-02-14 00:00:00\",\n{\n            'v': 83,\n            'f': \"83\",\n        }],\n [\"2012-02-15 00:00:00\",\n{\n            'v': 119,\n            'f': \"119\",\n        }],\n [\"2012-02-16 00:00:00\",\n{\n            'v': 47,\n            'f': \"47\",\n        }],\n [\"2012-02-17 00:00:00\",\n{\n            'v': 55,\n            'f': \"55\",\n        }],\n [\"2012-02-18 00:00:00\",\n{\n            'v': 72,\n            'f': \"72\",\n        }],\n [\"2012-02-19 00:00:00\",\n{\n            'v': 4,\n            'f': \"4\",\n        }],\n [\"2012-03-14 00:00:00\",\n{\n            'v': 93,\n            'f': \"93\",\n        }],\n [\"2012-03-15 00:00:00\",\n{\n            'v': 110,\n            'f': \"110\",\n        }],\n [\"2012-03-16 00:00:00\",\n{\n            'v': 108,\n            'f': \"108\",\n        }],\n [\"2012-03-17 00:00:00\",\n{\n            'v': 25,\n            'f': \"25\",\n        }],\n [\"2012-03-19 00:00:00\",\n{\n            'v': 164,\n            'f': \"164\",\n        }],\n [\"2012-04-14 00:00:00\",\n{\n            'v': 57,\n            'f': \"57\",\n        }],\n [\"2012-04-15 00:00:00\",\n{\n            'v': 19,\n            'f': \"19\",\n        }],\n [\"2012-04-16 00:00:00\",\n{\n            'v': 165,\n            'f': \"165\",\n        }],\n [\"2012-04-17 00:00:00\",\n{\n            'v': 86,\n            'f': \"86\",\n        }],\n [\"2012-04-18 00:00:00\",\n{\n            'v': 119,\n            'f': \"119\",\n        }],\n [\"2012-04-19 00:00:00\",\n{\n            'v': 62,\n            'f': \"62\",\n        }],\n [\"2012-05-14 00:00:00\",\n{\n            'v': 156,\n            'f': \"156\",\n        }],\n [\"2012-05-15 00:00:00\",\n{\n            'v': 135,\n            'f': \"135\",\n        }],\n [\"2012-05-16 00:00:00\",\n{\n            'v': 112,\n            'f': \"112\",\n        }],\n [\"2012-05-17 00:00:00\",\n{\n            'v': 108,\n            'f': \"108\",\n        }],\n [\"2012-05-18 00:00:00\",\n{\n            'v': 62,\n            'f': \"62\",\n        }],\n [\"2012-05-19 00:00:00\",\n{\n            'v': 30,\n            'f': \"30\",\n        }],\n [\"2012-06-13 00:00:00\",\n{\n            'v': 158,\n            'f': \"158\",\n        }],\n [\"2012-06-14 00:00:00\",\n{\n            'v': 108,\n            'f': \"108\",\n        }],\n [\"2012-06-15 00:00:00\",\n{\n            'v': 117,\n            'f': \"117\",\n        }],\n [\"2012-06-16 00:00:00\",\n{\n            'v': 101,\n            'f': \"101\",\n        }],\n [\"2012-06-17 00:00:00\",\n{\n            'v': 20,\n            'f': \"20\",\n        }],\n [\"2012-06-18 00:00:00\",\n{\n            'v': 200,\n            'f': \"200\",\n        }],\n [\"2012-06-19 00:00:00\",\n{\n            'v': 216,\n            'f': \"216\",\n        }],\n [\"2012-07-13 00:00:00\",\n{\n            'v': 103,\n            'f': \"103\",\n        }],\n [\"2012-07-14 00:00:00\",\n{\n            'v': 62,\n            'f': \"62\",\n        }],\n [\"2012-07-15 00:00:00\",\n{\n            'v': 2,\n            'f': \"2\",\n        }],\n [\"2012-07-16 00:00:00\",\n{\n            'v': 91,\n            'f': \"91\",\n        }],\n [\"2012-07-17 00:00:00\",\n{\n            'v': 81,\n            'f': \"81\",\n        }],\n [\"2012-07-18 00:00:00\",\n{\n            'v': 83,\n            'f': \"83\",\n        }],\n [\"2012-08-13 00:00:00\",\n{\n            'v': 120,\n            'f': \"120\",\n        }],\n [\"2012-08-14 00:00:00\",\n{\n            'v': 169,\n            'f': \"169\",\n        }],\n [\"2012-08-15 00:00:00\",\n{\n            'v': 89,\n            'f': \"89\",\n        }],\n [\"2012-08-16 00:00:00\",\n{\n            'v': 186,\n            'f': \"186\",\n        }],\n [\"2012-08-17 00:00:00\",\n{\n            'v': 118,\n            'f': \"118\",\n        }],\n [\"2012-08-18 00:00:00\",\n{\n            'v': 60,\n            'f': \"60\",\n        }],\n [\"2012-09-13 00:00:00\",\n{\n            'v': 194,\n            'f': \"194\",\n        }],\n [\"2012-09-14 00:00:00\",\n{\n            'v': 148,\n            'f': \"148\",\n        }],\n [\"2012-09-15 00:00:00\",\n{\n            'v': 179,\n            'f': \"179\",\n        }],\n [\"2012-09-16 00:00:00\",\n{\n            'v': 19,\n            'f': \"19\",\n        }],\n [\"2012-09-17 00:00:00\",\n{\n            'v': 185,\n            'f': \"185\",\n        }],\n [\"2012-09-18 00:00:00\",\n{\n            'v': 211,\n            'f': \"211\",\n        }],\n [\"2012-10-13 00:00:00\",\n{\n            'v': 33,\n            'f': \"33\",\n        }],\n [\"2012-10-14 00:00:00\",\n{\n            'v': 4,\n            'f': \"4\",\n        }],\n [\"2012-10-15 00:00:00\",\n{\n            'v': 223,\n            'f': \"223\",\n        }],\n [\"2012-10-16 00:00:00\",\n{\n            'v': 64,\n            'f': \"64\",\n        }],\n [\"2012-10-17 00:00:00\",\n{\n            'v': 124,\n            'f': \"124\",\n        }],\n [\"2012-10-18 00:00:00\",\n{\n            'v': 112,\n            'f': \"112\",\n        }],\n [\"2012-11-13 00:00:00\",\n{\n            'v': 419,\n            'f': \"419\",\n        }],\n [\"2012-11-14 00:00:00\",\n{\n            'v': 203,\n            'f': \"203\",\n        }],\n [\"2012-11-15 00:00:00\",\n{\n            'v': 244,\n            'f': \"244\",\n        }],\n [\"2012-11-16 00:00:00\",\n{\n            'v': 249,\n            'f': \"249\",\n        }],\n [\"2012-11-17 00:00:00\",\n{\n            'v': 114,\n            'f': \"114\",\n        }],\n [\"2012-11-18 00:00:00\",\n{\n            'v': 6,\n            'f': \"6\",\n        }],\n [\"2012-12-13 00:00:00\",\n{\n            'v': 118,\n            'f': \"118\",\n        }],\n [\"2012-12-14 00:00:00\",\n{\n            'v': 106,\n            'f': \"106\",\n        }],\n [\"2012-12-15 00:00:00\",\n{\n            'v': 121,\n            'f': \"121\",\n        }],\n [\"2012-12-16 00:00:00\",\n{\n            'v': 16,\n            'f': \"16\",\n        }],\n [\"2012-12-17 00:00:00\",\n{\n            'v': 221,\n            'f': \"221\",\n        }],\n [\"2012-12-18 00:00:00\",\n{\n            'v': 194,\n            'f': \"194\",\n        }],\n [\"2013-01-14 00:00:00\",\n{\n            'v': 80,\n            'f': \"80\",\n        }],\n [\"2013-01-15 00:00:00\",\n{\n            'v': 105,\n            'f': \"105\",\n        }],\n [\"2013-01-16 00:00:00\",\n{\n            'v': 104,\n            'f': \"104\",\n        }],\n [\"2013-01-17 00:00:00\",\n{\n            'v': 75,\n            'f': \"75\",\n        }],\n [\"2013-01-18 00:00:00\",\n{\n            'v': 96,\n            'f': \"96\",\n        }],\n [\"2013-01-19 00:00:00\",\n{\n            'v': 42,\n            'f': \"42\",\n        }],\n [\"2013-02-14 00:00:00\",\n{\n            'v': 84,\n            'f': \"84\",\n        }],\n [\"2013-02-15 00:00:00\",\n{\n            'v': 107,\n            'f': \"107\",\n        }],\n [\"2013-02-16 00:00:00\",\n{\n            'v': 58,\n            'f': \"58\",\n        }],\n [\"2013-02-18 00:00:00\",\n{\n            'v': 85,\n            'f': \"85\",\n        }],\n [\"2013-02-19 00:00:00\",\n{\n            'v': 110,\n            'f': \"110\",\n        }],\n [\"2013-03-14 00:00:00\",\n{\n            'v': 122,\n            'f': \"122\",\n        }],\n [\"2013-03-15 00:00:00\",\n{\n            'v': 112,\n            'f': \"112\",\n        }],\n [\"2013-03-16 00:00:00\",\n{\n            'v': 70,\n            'f': \"70\",\n        }],\n [\"2013-03-17 00:00:00\",\n{\n            'v': 3,\n            'f': \"3\",\n        }],\n [\"2013-03-18 00:00:00\",\n{\n            'v': 89,\n            'f': \"89\",\n        }],\n [\"2013-03-19 00:00:00\",\n{\n            'v': 101,\n            'f': \"101\",\n        }],\n [\"2013-04-14 00:00:00\",\n{\n            'v': 12,\n            'f': \"12\",\n        }],\n [\"2013-04-15 00:00:00\",\n{\n            'v': 133,\n            'f': \"133\",\n        }],\n [\"2013-04-16 00:00:00\",\n{\n            'v': 113,\n            'f': \"113\",\n        }],\n [\"2013-04-17 00:00:00\",\n{\n            'v': 89,\n            'f': \"89\",\n        }],\n [\"2013-04-18 00:00:00\",\n{\n            'v': 108,\n            'f': \"108\",\n        }],\n [\"2013-04-19 00:00:00\",\n{\n            'v': 110,\n            'f': \"110\",\n        }],\n [\"2013-05-14 00:00:00\",\n{\n            'v': 127,\n            'f': \"127\",\n        }],\n [\"2013-05-15 00:00:00\",\n{\n            'v': 212,\n            'f': \"212\",\n        }],\n [\"2013-05-16 00:00:00\",\n{\n            'v': 183,\n            'f': \"183\",\n        }],\n [\"2013-05-17 00:00:00\",\n{\n            'v': 155,\n            'f': \"155\",\n        }],\n [\"2013-05-18 00:00:00\",\n{\n            'v': 90,\n            'f': \"90\",\n        }],\n [\"2013-05-19 00:00:00\",\n{\n            'v': 15,\n            'f': \"15\",\n        }],\n [\"2013-06-13 00:00:00\",\n{\n            'v': 339,\n            'f': \"339\",\n        }],\n [\"2013-06-14 00:00:00\",\n{\n            'v': 243,\n            'f': \"243\",\n        }],\n [\"2013-06-15 00:00:00\",\n{\n            'v': 156,\n            'f': \"156\",\n        }],\n [\"2013-06-16 00:00:00\",\n{\n            'v': 16,\n            'f': \"16\",\n        }],\n [\"2013-06-17 00:00:00\",\n{\n            'v': 268,\n            'f': \"268\",\n        }],\n [\"2013-06-18 00:00:00\",\n{\n            'v': 264,\n            'f': \"264\",\n        }],\n [\"2013-06-19 00:00:00\",\n{\n            'v': 60,\n            'f': \"60\",\n        }],\n [\"2013-07-13 00:00:00\",\n{\n            'v': 52,\n            'f': \"52\",\n        }],\n [\"2013-07-14 00:00:00\",\n{\n            'v': 30,\n            'f': \"30\",\n        }],\n [\"2013-07-15 00:00:00\",\n{\n            'v': 160,\n            'f': \"160\",\n        }],\n [\"2013-07-16 00:00:00\",\n{\n            'v': 118,\n            'f': \"118\",\n        }],\n [\"2013-07-17 00:00:00\",\n{\n            'v': 115,\n            'f': \"115\",\n        }],\n [\"2013-07-18 00:00:00\",\n{\n            'v': 105,\n            'f': \"105\",\n        }],\n [\"2013-08-13 00:00:00\",\n{\n            'v': 220,\n            'f': \"220\",\n        }],\n [\"2013-08-14 00:00:00\",\n{\n            'v': 199,\n            'f': \"199\",\n        }],\n [\"2013-08-15 00:00:00\",\n{\n            'v': 225,\n            'f': \"225\",\n        }],\n [\"2013-08-16 00:00:00\",\n{\n            'v': 295,\n            'f': \"295\",\n        }],\n [\"2013-08-17 00:00:00\",\n{\n            'v': 61,\n            'f': \"61\",\n        }],\n [\"2013-08-18 00:00:00\",\n{\n            'v': 6,\n            'f': \"6\",\n        }],\n [\"2013-09-13 00:00:00\",\n{\n            'v': 252,\n            'f': \"252\",\n        }],\n [\"2013-09-14 00:00:00\",\n{\n            'v': 178,\n            'f': \"178\",\n        }],\n [\"2013-09-15 00:00:00\",\n{\n            'v': 26,\n            'f': \"26\",\n        }],\n [\"2013-09-16 00:00:00\",\n{\n            'v': 268,\n            'f': \"268\",\n        }],\n [\"2013-09-17 00:00:00\",\n{\n            'v': 195,\n            'f': \"195\",\n        }],\n [\"2013-09-18 00:00:00\",\n{\n            'v': 137,\n            'f': \"137\",\n        }],\n [\"2013-10-13 00:00:00\",\n{\n            'v': 10,\n            'f': \"10\",\n        }],\n [\"2013-10-14 00:00:00\",\n{\n            'v': 231,\n            'f': \"231\",\n        }],\n [\"2013-10-15 00:00:00\",\n{\n            'v': 253,\n            'f': \"253\",\n        }],\n [\"2013-10-16 00:00:00\",\n{\n            'v': 218,\n            'f': \"218\",\n        }],\n [\"2013-10-17 00:00:00\",\n{\n            'v': 102,\n            'f': \"102\",\n        }],\n [\"2013-10-18 00:00:00\",\n{\n            'v': 176,\n            'f': \"176\",\n        }],\n [\"2013-11-13 00:00:00\",\n{\n            'v': 256,\n            'f': \"256\",\n        }],\n [\"2013-11-14 00:00:00\",\n{\n            'v': 177,\n            'f': \"177\",\n        }],\n [\"2013-11-15 00:00:00\",\n{\n            'v': 291,\n            'f': \"291\",\n        }],\n [\"2013-11-16 00:00:00\",\n{\n            'v': 77,\n            'f': \"77\",\n        }],\n [\"2013-11-17 00:00:00\",\n{\n            'v': 34,\n            'f': \"34\",\n        }],\n [\"2013-11-18 00:00:00\",\n{\n            'v': 259,\n            'f': \"259\",\n        }],\n [\"2013-12-13 00:00:00\",\n{\n            'v': 172,\n            'f': \"172\",\n        }],\n [\"2013-12-14 00:00:00\",\n{\n            'v': 63,\n            'f': \"63\",\n        }],\n [\"2013-12-15 00:00:00\",\n{\n            'v': 38,\n            'f': \"38\",\n        }],\n [\"2013-12-16 00:00:00\",\n{\n            'v': 207,\n            'f': \"207\",\n        }],\n [\"2013-12-17 00:00:00\",\n{\n            'v': 166,\n            'f': \"166\",\n        }],\n [\"2013-12-18 00:00:00\",\n{\n            'v': 310,\n            'f': \"310\",\n        }],\n [\"2014-01-14 00:00:00\",\n{\n            'v': 145,\n            'f': \"145\",\n        }],\n [\"2014-01-15 00:00:00\",\n{\n            'v': 147,\n            'f': \"147\",\n        }],\n [\"2014-01-16 00:00:00\",\n{\n            'v': 158,\n            'f': \"158\",\n        }],\n [\"2014-01-17 00:00:00\",\n{\n            'v': 123,\n            'f': \"123\",\n        }],\n [\"2014-01-18 00:00:00\",\n{\n            'v': 80,\n            'f': \"80\",\n        }],\n [\"2014-01-19 00:00:00\",\n{\n            'v': 4,\n            'f': \"4\",\n        }],\n [\"2014-02-14 00:00:00\",\n{\n            'v': 142,\n            'f': \"142\",\n        }],\n [\"2014-02-15 00:00:00\",\n{\n            'v': 61,\n            'f': \"61\",\n        }],\n [\"2014-02-16 00:00:00\",\n{\n            'v': 14,\n            'f': \"14\",\n        }],\n [\"2014-02-17 00:00:00\",\n{\n            'v': 148,\n            'f': \"148\",\n        }],\n [\"2014-02-18 00:00:00\",\n{\n            'v': 126,\n            'f': \"126\",\n        }],\n [\"2014-02-19 00:00:00\",\n{\n            'v': 78,\n            'f': \"78\",\n        }],\n [\"2014-03-14 00:00:00\",\n{\n            'v': 185,\n            'f': \"185\",\n        }],\n [\"2014-03-15 00:00:00\",\n{\n            'v': 112,\n            'f': \"112\",\n        }],\n [\"2014-03-16 00:00:00\",\n{\n            'v': 5,\n            'f': \"5\",\n        }],\n [\"2014-03-17 00:00:00\",\n{\n            'v': 219,\n            'f': \"219\",\n        }],\n [\"2014-03-18 00:00:00\",\n{\n            'v': 199,\n            'f': \"199\",\n        }],\n [\"2014-03-19 00:00:00\",\n{\n            'v': 182,\n            'f': \"182\",\n        }],\n [\"2014-04-14 00:00:00\",\n{\n            'v': 116,\n            'f': \"116\",\n        }],\n [\"2014-04-15 00:00:00\",\n{\n            'v': 176,\n            'f': \"176\",\n        }],\n [\"2014-04-16 00:00:00\",\n{\n            'v': 180,\n            'f': \"180\",\n        }],\n [\"2014-04-17 00:00:00\",\n{\n            'v': 206,\n            'f': \"206\",\n        }],\n [\"2014-04-18 00:00:00\",\n{\n            'v': 151,\n            'f': \"151\",\n        }],\n [\"2014-04-19 00:00:00\",\n{\n            'v': 57,\n            'f': \"57\",\n        }],\n [\"2014-05-14 00:00:00\",\n{\n            'v': 125,\n            'f': \"125\",\n        }],\n [\"2014-05-15 00:00:00\",\n{\n            'v': 227,\n            'f': \"227\",\n        }],\n [\"2014-05-16 00:00:00\",\n{\n            'v': 178,\n            'f': \"178\",\n        }],\n [\"2014-05-17 00:00:00\",\n{\n            'v': 37,\n            'f': \"37\",\n        }],\n [\"2014-05-18 00:00:00\",\n{\n            'v': 6,\n            'f': \"6\",\n        }],\n [\"2014-05-19 00:00:00\",\n{\n            'v': 279,\n            'f': \"279\",\n        }],\n [\"2014-06-13 00:00:00\",\n{\n            'v': 216,\n            'f': \"216\",\n        }],\n [\"2014-06-14 00:00:00\",\n{\n            'v': 135,\n            'f': \"135\",\n        }],\n [\"2014-06-15 00:00:00\",\n{\n            'v': 21,\n            'f': \"21\",\n        }],\n [\"2014-06-16 00:00:00\",\n{\n            'v': 233,\n            'f': \"233\",\n        }],\n [\"2014-06-17 00:00:00\",\n{\n            'v': 240,\n            'f': \"240\",\n        }],\n [\"2014-06-18 00:00:00\",\n{\n            'v': 461,\n            'f': \"461\",\n        }],\n [\"2014-07-13 00:00:00\",\n{\n            'v': 7,\n            'f': \"7\",\n        }],\n [\"2014-07-14 00:00:00\",\n{\n            'v': 150,\n            'f': \"150\",\n        }],\n [\"2014-07-15 00:00:00\",\n{\n            'v': 103,\n            'f': \"103\",\n        }],\n [\"2014-07-16 00:00:00\",\n{\n            'v': 138,\n            'f': \"138\",\n        }],\n [\"2014-07-17 00:00:00\",\n{\n            'v': 100,\n            'f': \"100\",\n        }],\n [\"2014-07-18 00:00:00\",\n{\n            'v': 80,\n            'f': \"80\",\n        }],\n [\"2014-08-13 00:00:00\",\n{\n            'v': 312,\n            'f': \"312\",\n        }],\n [\"2014-08-14 00:00:00\",\n{\n            'v': 242,\n            'f': \"242\",\n        }],\n [\"2014-08-15 00:00:00\",\n{\n            'v': 189,\n            'f': \"189\",\n        }],\n [\"2014-08-16 00:00:00\",\n{\n            'v': 172,\n            'f': \"172\",\n        }],\n [\"2014-08-17 00:00:00\",\n{\n            'v': 10,\n            'f': \"10\",\n        }],\n [\"2014-08-18 00:00:00\",\n{\n            'v': 296,\n            'f': \"296\",\n        }],\n [\"2014-09-13 00:00:00\",\n{\n            'v': 122,\n            'f': \"122\",\n        }],\n [\"2014-09-14 00:00:00\",\n{\n            'v': 17,\n            'f': \"17\",\n        }],\n [\"2014-09-15 00:00:00\",\n{\n            'v': 239,\n            'f': \"239\",\n        }],\n [\"2014-09-16 00:00:00\",\n{\n            'v': 323,\n            'f': \"323\",\n        }],\n [\"2014-09-17 00:00:00\",\n{\n            'v': 311,\n            'f': \"311\",\n        }],\n [\"2014-09-18 00:00:00\",\n{\n            'v': 313,\n            'f': \"313\",\n        }],\n [\"2014-10-13 00:00:00\",\n{\n            'v': 302,\n            'f': \"302\",\n        }],\n [\"2014-10-14 00:00:00\",\n{\n            'v': 207,\n            'f': \"207\",\n        }],\n [\"2014-10-15 00:00:00\",\n{\n            'v': 128,\n            'f': \"128\",\n        }],\n [\"2014-10-16 00:00:00\",\n{\n            'v': 220,\n            'f': \"220\",\n        }],\n [\"2014-10-17 00:00:00\",\n{\n            'v': 353,\n            'f': \"353\",\n        }],\n [\"2014-10-18 00:00:00\",\n{\n            'v': 75,\n            'f': \"75\",\n        }],\n [\"2014-11-13 00:00:00\",\n{\n            'v': 372,\n            'f': \"372\",\n        }],\n [\"2014-11-14 00:00:00\",\n{\n            'v': 346,\n            'f': \"346\",\n        }],\n [\"2014-11-15 00:00:00\",\n{\n            'v': 112,\n            'f': \"112\",\n        }],\n [\"2014-11-16 00:00:00\",\n{\n            'v': 51,\n            'f': \"51\",\n        }],\n [\"2014-11-17 00:00:00\",\n{\n            'v': 357,\n            'f': \"357\",\n        }],\n [\"2014-11-18 00:00:00\",\n{\n            'v': 458,\n            'f': \"458\",\n        }],\n [\"2014-12-13 00:00:00\",\n{\n            'v': 187,\n            'f': \"187\",\n        }],\n [\"2014-12-14 00:00:00\",\n{\n            'v': 38,\n            'f': \"38\",\n        }],\n [\"2014-12-15 00:00:00\",\n{\n            'v': 325,\n            'f': \"325\",\n        }],\n [\"2014-12-16 00:00:00\",\n{\n            'v': 219,\n            'f': \"219\",\n        }],\n [\"2014-12-17 00:00:00\",\n{\n            'v': 227,\n            'f': \"227\",\n        }],\n [\"2014-12-18 00:00:00\",\n{\n            'v': 222,\n            'f': \"222\",\n        }]],\n        columns: [[\"string\", \"order_date\"], [\"number\", \"quantity\"]],\n        columnOptions: [{\"width\": \"1px\", \"className\": \"index_column\"}],\n        rowsPerPage: 25,\n        helpUrl: \"https://colab.research.google.com/notebooks/data_table.ipynb\",\n        suppressOutputScrolling: true,\n        minimumWidth: undefined,\n      });\n\n      function appendQuickchartButton(parentElement) {\n        let quickchartButtonContainerElement = document.createElement('div');\n        quickchartButtonContainerElement.innerHTML = `\n<div id=\"df-0e149c52-d6e1-4767-9fb5-45ddeadb7a36\">\n  <button class=\"colab-df-quickchart\" onclick=\"quickchart('df-0e149c52-d6e1-4767-9fb5-45ddeadb7a36')\"\n            title=\"Suggest charts.\"\n            style=\"display:none;\">\n    \n<svg xmlns=\"http://www.w3.org/2000/svg\" height=\"24px\"viewBox=\"0 0 24 24\"\n     width=\"24px\">\n    <g>\n        <path d=\"M19 3H5c-1.1 0-2 .9-2 2v14c0 1.1.9 2 2 2h14c1.1 0 2-.9 2-2V5c0-1.1-.9-2-2-2zM9 17H7v-7h2v7zm4 0h-2V7h2v10zm4 0h-2v-4h2v4z\"/>\n    </g>\n</svg>\n  </button>\n  \n<style>\n  .colab-df-quickchart {\n      --bg-color: #E8F0FE;\n      --fill-color: #1967D2;\n      --hover-bg-color: #E2EBFA;\n      --hover-fill-color: #174EA6;\n      --disabled-fill-color: #AAA;\n      --disabled-bg-color: #DDD;\n  }\n\n  [theme=dark] .colab-df-quickchart {\n      --bg-color: #3B4455;\n      --fill-color: #D2E3FC;\n      --hover-bg-color: #434B5C;\n      --hover-fill-color: #FFFFFF;\n      --disabled-bg-color: #3B4455;\n      --disabled-fill-color: #666;\n  }\n\n  .colab-df-quickchart {\n    background-color: var(--bg-color);\n    border: none;\n    border-radius: 50%;\n    cursor: pointer;\n    display: none;\n    fill: var(--fill-color);\n    height: 32px;\n    padding: 0;\n    width: 32px;\n  }\n\n  .colab-df-quickchart:hover {\n    background-color: var(--hover-bg-color);\n    box-shadow: 0 1px 2px rgba(60, 64, 67, 0.3), 0 1px 3px 1px rgba(60, 64, 67, 0.15);\n    fill: var(--button-hover-fill-color);\n  }\n\n  .colab-df-quickchart-complete:disabled,\n  .colab-df-quickchart-complete:disabled:hover {\n    background-color: var(--disabled-bg-color);\n    fill: var(--disabled-fill-color);\n    box-shadow: none;\n  }\n\n  .colab-df-spinner {\n    border: 2px solid var(--fill-color);\n    border-color: transparent;\n    border-bottom-color: var(--fill-color);\n    animation:\n      spin 1s steps(1) infinite;\n  }\n\n  @keyframes spin {\n    0% {\n      border-color: transparent;\n      border-bottom-color: var(--fill-color);\n      border-left-color: var(--fill-color);\n    }\n    20% {\n      border-color: transparent;\n      border-left-color: var(--fill-color);\n      border-top-color: var(--fill-color);\n    }\n    30% {\n      border-color: transparent;\n      border-left-color: var(--fill-color);\n      border-top-color: var(--fill-color);\n      border-right-color: var(--fill-color);\n    }\n    40% {\n      border-color: transparent;\n      border-right-color: var(--fill-color);\n      border-top-color: var(--fill-color);\n    }\n    60% {\n      border-color: transparent;\n      border-right-color: var(--fill-color);\n    }\n    80% {\n      border-color: transparent;\n      border-right-color: var(--fill-color);\n      border-bottom-color: var(--fill-color);\n    }\n    90% {\n      border-color: transparent;\n      border-bottom-color: var(--fill-color);\n    }\n  }\n</style>\n\n  <script>\n    async function quickchart(key) {\n      const quickchartButtonEl =\n        document.querySelector('#' + key + ' button');\n      quickchartButtonEl.disabled = true;  // To prevent multiple clicks.\n      quickchartButtonEl.classList.add('colab-df-spinner');\n      try {\n        const charts = await google.colab.kernel.invokeFunction(\n            'suggestCharts', [key], {});\n      } catch (error) {\n        console.error('Error during call to suggestCharts:', error);\n      }\n      quickchartButtonEl.classList.remove('colab-df-spinner');\n      quickchartButtonEl.classList.add('colab-df-quickchart-complete');\n    }\n    (() => {\n      let quickchartButtonEl =\n        document.querySelector('#df-0e149c52-d6e1-4767-9fb5-45ddeadb7a36 button');\n      quickchartButtonEl.style.display =\n        google.colab.kernel.accessAllowed ? 'block' : 'none';\n    })();\n  </script>\n</div>`;\n        parentElement.appendChild(quickchartButtonContainerElement);\n      }\n\n      appendQuickchartButton(table);\n    "
          },
          "metadata": {},
          "execution_count": 221
        }
      ]
    },
    {
      "cell_type": "markdown",
      "source": [],
      "metadata": {
        "id": "15dnojzEOBP_"
      }
    },
    {
      "cell_type": "markdown",
      "source": [],
      "metadata": {
        "id": "SAQeIs7Nj9eE"
      }
    },
    {
      "cell_type": "markdown",
      "source": [],
      "metadata": {
        "id": "atPcvkiqj-XX"
      }
    },
    {
      "cell_type": "markdown",
      "source": [
        "# Conclusiones"
      ],
      "metadata": {
        "id": "7RTDtHLcp7Et"
      }
    },
    {
      "cell_type": "code",
      "source": [
        "print( 'El dia con mas ventas: ', fecha_mas_repetida)"
      ],
      "metadata": {
        "id": "P6CsJ6Dep94Z",
        "colab": {
          "base_uri": "https://localhost:8080/"
        },
        "outputId": "afd0bbce-c1c8-4383-97a0-8fda559e8237"
      },
      "execution_count": 79,
      "outputs": [
        {
          "output_type": "stream",
          "name": "stdout",
          "text": [
            "El dia con mas ventas:  2014-06-18 00:00:00\n"
          ]
        }
      ]
    },
    {
      "cell_type": "markdown",
      "source": [
        "La fecha en la que los clientes realizaron mas compras fue  2014-06-18 pero el  dia que mas productos fueron vendidos fue el 2011-01-14 con un total de 127\n",
        "\n",
        "\n"
      ],
      "metadata": {
        "id": "P-NoHneAjDPz"
      }
    },
    {
      "cell_type": "code",
      "source": [
        "print\n",
        "(bestdate_sum)"
      ],
      "metadata": {
        "colab": {
          "base_uri": "https://localhost:8080/",
          "height": 683
        },
        "id": "uJjAxllVjF4L",
        "outputId": "2ae098ee-1d24-4128-98eb-0bf71f9a982a"
      },
      "execution_count": 80,
      "outputs": [
        {
          "output_type": "execute_result",
          "data": {
            "text/plain": [
              "            quantity\n",
              "order_date          \n",
              "2011-01-14       127\n",
              "2011-01-15        37\n",
              "2011-01-16         5\n",
              "2011-01-17        57\n",
              "2011-01-18        17\n",
              "...              ...\n",
              "2014-12-14        38\n",
              "2014-12-15       325\n",
              "2014-12-16       219\n",
              "2014-12-17       227\n",
              "2014-12-18       222\n",
              "\n",
              "[285 rows x 1 columns]"
            ],
            "text/html": [
              "\n",
              "  <div id=\"df-5a7c503c-ef2a-4fff-b1dd-5ef52fd5edc2\" class=\"colab-df-container\">\n",
              "    <div>\n",
              "<style scoped>\n",
              "    .dataframe tbody tr th:only-of-type {\n",
              "        vertical-align: middle;\n",
              "    }\n",
              "\n",
              "    .dataframe tbody tr th {\n",
              "        vertical-align: top;\n",
              "    }\n",
              "\n",
              "    .dataframe thead th {\n",
              "        text-align: right;\n",
              "    }\n",
              "</style>\n",
              "<table border=\"1\" class=\"dataframe\">\n",
              "  <thead>\n",
              "    <tr style=\"text-align: right;\">\n",
              "      <th></th>\n",
              "      <th>quantity</th>\n",
              "    </tr>\n",
              "    <tr>\n",
              "      <th>order_date</th>\n",
              "      <th></th>\n",
              "    </tr>\n",
              "  </thead>\n",
              "  <tbody>\n",
              "    <tr>\n",
              "      <th>2011-01-14</th>\n",
              "      <td>127</td>\n",
              "    </tr>\n",
              "    <tr>\n",
              "      <th>2011-01-15</th>\n",
              "      <td>37</td>\n",
              "    </tr>\n",
              "    <tr>\n",
              "      <th>2011-01-16</th>\n",
              "      <td>5</td>\n",
              "    </tr>\n",
              "    <tr>\n",
              "      <th>2011-01-17</th>\n",
              "      <td>57</td>\n",
              "    </tr>\n",
              "    <tr>\n",
              "      <th>2011-01-18</th>\n",
              "      <td>17</td>\n",
              "    </tr>\n",
              "    <tr>\n",
              "      <th>...</th>\n",
              "      <td>...</td>\n",
              "    </tr>\n",
              "    <tr>\n",
              "      <th>2014-12-14</th>\n",
              "      <td>38</td>\n",
              "    </tr>\n",
              "    <tr>\n",
              "      <th>2014-12-15</th>\n",
              "      <td>325</td>\n",
              "    </tr>\n",
              "    <tr>\n",
              "      <th>2014-12-16</th>\n",
              "      <td>219</td>\n",
              "    </tr>\n",
              "    <tr>\n",
              "      <th>2014-12-17</th>\n",
              "      <td>227</td>\n",
              "    </tr>\n",
              "    <tr>\n",
              "      <th>2014-12-18</th>\n",
              "      <td>222</td>\n",
              "    </tr>\n",
              "  </tbody>\n",
              "</table>\n",
              "<p>285 rows × 1 columns</p>\n",
              "</div>\n",
              "    <div class=\"colab-df-buttons\">\n",
              "\n",
              "  <div class=\"colab-df-container\">\n",
              "    <button class=\"colab-df-convert\" onclick=\"convertToInteractive('df-5a7c503c-ef2a-4fff-b1dd-5ef52fd5edc2')\"\n",
              "            title=\"Convert this dataframe to an interactive table.\"\n",
              "            style=\"display:none;\">\n",
              "\n",
              "  <svg xmlns=\"http://www.w3.org/2000/svg\" height=\"24px\" viewBox=\"0 -960 960 960\">\n",
              "    <path d=\"M120-120v-720h720v720H120Zm60-500h600v-160H180v160Zm220 220h160v-160H400v160Zm0 220h160v-160H400v160ZM180-400h160v-160H180v160Zm440 0h160v-160H620v160ZM180-180h160v-160H180v160Zm440 0h160v-160H620v160Z\"/>\n",
              "  </svg>\n",
              "    </button>\n",
              "\n",
              "  <style>\n",
              "    .colab-df-container {\n",
              "      display:flex;\n",
              "      gap: 12px;\n",
              "    }\n",
              "\n",
              "    .colab-df-convert {\n",
              "      background-color: #E8F0FE;\n",
              "      border: none;\n",
              "      border-radius: 50%;\n",
              "      cursor: pointer;\n",
              "      display: none;\n",
              "      fill: #1967D2;\n",
              "      height: 32px;\n",
              "      padding: 0 0 0 0;\n",
              "      width: 32px;\n",
              "    }\n",
              "\n",
              "    .colab-df-convert:hover {\n",
              "      background-color: #E2EBFA;\n",
              "      box-shadow: 0px 1px 2px rgba(60, 64, 67, 0.3), 0px 1px 3px 1px rgba(60, 64, 67, 0.15);\n",
              "      fill: #174EA6;\n",
              "    }\n",
              "\n",
              "    .colab-df-buttons div {\n",
              "      margin-bottom: 4px;\n",
              "    }\n",
              "\n",
              "    [theme=dark] .colab-df-convert {\n",
              "      background-color: #3B4455;\n",
              "      fill: #D2E3FC;\n",
              "    }\n",
              "\n",
              "    [theme=dark] .colab-df-convert:hover {\n",
              "      background-color: #434B5C;\n",
              "      box-shadow: 0px 1px 3px 1px rgba(0, 0, 0, 0.15);\n",
              "      filter: drop-shadow(0px 1px 2px rgba(0, 0, 0, 0.3));\n",
              "      fill: #FFFFFF;\n",
              "    }\n",
              "  </style>\n",
              "\n",
              "    <script>\n",
              "      const buttonEl =\n",
              "        document.querySelector('#df-5a7c503c-ef2a-4fff-b1dd-5ef52fd5edc2 button.colab-df-convert');\n",
              "      buttonEl.style.display =\n",
              "        google.colab.kernel.accessAllowed ? 'block' : 'none';\n",
              "\n",
              "      async function convertToInteractive(key) {\n",
              "        const element = document.querySelector('#df-5a7c503c-ef2a-4fff-b1dd-5ef52fd5edc2');\n",
              "        const dataTable =\n",
              "          await google.colab.kernel.invokeFunction('convertToInteractive',\n",
              "                                                    [key], {});\n",
              "        if (!dataTable) return;\n",
              "\n",
              "        const docLinkHtml = 'Like what you see? Visit the ' +\n",
              "          '<a target=\"_blank\" href=https://colab.research.google.com/notebooks/data_table.ipynb>data table notebook</a>'\n",
              "          + ' to learn more about interactive tables.';\n",
              "        element.innerHTML = '';\n",
              "        dataTable['output_type'] = 'display_data';\n",
              "        await google.colab.output.renderOutput(dataTable, element);\n",
              "        const docLink = document.createElement('div');\n",
              "        docLink.innerHTML = docLinkHtml;\n",
              "        element.appendChild(docLink);\n",
              "      }\n",
              "    </script>\n",
              "  </div>\n",
              "\n",
              "\n",
              "<div id=\"df-055acdf5-37df-49b1-97f5-b951cc16958b\">\n",
              "  <button class=\"colab-df-quickchart\" onclick=\"quickchart('df-055acdf5-37df-49b1-97f5-b951cc16958b')\"\n",
              "            title=\"Suggest charts.\"\n",
              "            style=\"display:none;\">\n",
              "\n",
              "<svg xmlns=\"http://www.w3.org/2000/svg\" height=\"24px\"viewBox=\"0 0 24 24\"\n",
              "     width=\"24px\">\n",
              "    <g>\n",
              "        <path d=\"M19 3H5c-1.1 0-2 .9-2 2v14c0 1.1.9 2 2 2h14c1.1 0 2-.9 2-2V5c0-1.1-.9-2-2-2zM9 17H7v-7h2v7zm4 0h-2V7h2v10zm4 0h-2v-4h2v4z\"/>\n",
              "    </g>\n",
              "</svg>\n",
              "  </button>\n",
              "\n",
              "<style>\n",
              "  .colab-df-quickchart {\n",
              "      --bg-color: #E8F0FE;\n",
              "      --fill-color: #1967D2;\n",
              "      --hover-bg-color: #E2EBFA;\n",
              "      --hover-fill-color: #174EA6;\n",
              "      --disabled-fill-color: #AAA;\n",
              "      --disabled-bg-color: #DDD;\n",
              "  }\n",
              "\n",
              "  [theme=dark] .colab-df-quickchart {\n",
              "      --bg-color: #3B4455;\n",
              "      --fill-color: #D2E3FC;\n",
              "      --hover-bg-color: #434B5C;\n",
              "      --hover-fill-color: #FFFFFF;\n",
              "      --disabled-bg-color: #3B4455;\n",
              "      --disabled-fill-color: #666;\n",
              "  }\n",
              "\n",
              "  .colab-df-quickchart {\n",
              "    background-color: var(--bg-color);\n",
              "    border: none;\n",
              "    border-radius: 50%;\n",
              "    cursor: pointer;\n",
              "    display: none;\n",
              "    fill: var(--fill-color);\n",
              "    height: 32px;\n",
              "    padding: 0;\n",
              "    width: 32px;\n",
              "  }\n",
              "\n",
              "  .colab-df-quickchart:hover {\n",
              "    background-color: var(--hover-bg-color);\n",
              "    box-shadow: 0 1px 2px rgba(60, 64, 67, 0.3), 0 1px 3px 1px rgba(60, 64, 67, 0.15);\n",
              "    fill: var(--button-hover-fill-color);\n",
              "  }\n",
              "\n",
              "  .colab-df-quickchart-complete:disabled,\n",
              "  .colab-df-quickchart-complete:disabled:hover {\n",
              "    background-color: var(--disabled-bg-color);\n",
              "    fill: var(--disabled-fill-color);\n",
              "    box-shadow: none;\n",
              "  }\n",
              "\n",
              "  .colab-df-spinner {\n",
              "    border: 2px solid var(--fill-color);\n",
              "    border-color: transparent;\n",
              "    border-bottom-color: var(--fill-color);\n",
              "    animation:\n",
              "      spin 1s steps(1) infinite;\n",
              "  }\n",
              "\n",
              "  @keyframes spin {\n",
              "    0% {\n",
              "      border-color: transparent;\n",
              "      border-bottom-color: var(--fill-color);\n",
              "      border-left-color: var(--fill-color);\n",
              "    }\n",
              "    20% {\n",
              "      border-color: transparent;\n",
              "      border-left-color: var(--fill-color);\n",
              "      border-top-color: var(--fill-color);\n",
              "    }\n",
              "    30% {\n",
              "      border-color: transparent;\n",
              "      border-left-color: var(--fill-color);\n",
              "      border-top-color: var(--fill-color);\n",
              "      border-right-color: var(--fill-color);\n",
              "    }\n",
              "    40% {\n",
              "      border-color: transparent;\n",
              "      border-right-color: var(--fill-color);\n",
              "      border-top-color: var(--fill-color);\n",
              "    }\n",
              "    60% {\n",
              "      border-color: transparent;\n",
              "      border-right-color: var(--fill-color);\n",
              "    }\n",
              "    80% {\n",
              "      border-color: transparent;\n",
              "      border-right-color: var(--fill-color);\n",
              "      border-bottom-color: var(--fill-color);\n",
              "    }\n",
              "    90% {\n",
              "      border-color: transparent;\n",
              "      border-bottom-color: var(--fill-color);\n",
              "    }\n",
              "  }\n",
              "</style>\n",
              "\n",
              "  <script>\n",
              "    async function quickchart(key) {\n",
              "      const quickchartButtonEl =\n",
              "        document.querySelector('#' + key + ' button');\n",
              "      quickchartButtonEl.disabled = true;  // To prevent multiple clicks.\n",
              "      quickchartButtonEl.classList.add('colab-df-spinner');\n",
              "      try {\n",
              "        const charts = await google.colab.kernel.invokeFunction(\n",
              "            'suggestCharts', [key], {});\n",
              "      } catch (error) {\n",
              "        console.error('Error during call to suggestCharts:', error);\n",
              "      }\n",
              "      quickchartButtonEl.classList.remove('colab-df-spinner');\n",
              "      quickchartButtonEl.classList.add('colab-df-quickchart-complete');\n",
              "    }\n",
              "    (() => {\n",
              "      let quickchartButtonEl =\n",
              "        document.querySelector('#df-055acdf5-37df-49b1-97f5-b951cc16958b button');\n",
              "      quickchartButtonEl.style.display =\n",
              "        google.colab.kernel.accessAllowed ? 'block' : 'none';\n",
              "    })();\n",
              "  </script>\n",
              "</div>\n",
              "    </div>\n",
              "  </div>\n"
            ]
          },
          "metadata": {},
          "execution_count": 80
        }
      ]
    }
  ]
}